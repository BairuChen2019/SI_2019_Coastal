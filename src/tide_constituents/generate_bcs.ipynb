{
 "cells": [
  {
   "cell_type": "code",
   "execution_count": 1,
   "metadata": {},
   "outputs": [],
   "source": [
    "import tide_constituents as tc\n",
    "import pandas as pd\n",
    "from calendar import monthrange\n",
    "import utils"
   ]
  },
  {
   "cell_type": "code",
   "execution_count": 3,
   "metadata": {},
   "outputs": [],
   "source": [
    "year = '2018'\n",
    "wl_gage = (-88.2, 30.4)\n",
    "q_gage = (-88.01, 31.0)"
   ]
  },
  {
   "cell_type": "code",
   "execution_count": 4,
   "metadata": {},
   "outputs": [],
   "source": [
    "start = year + '0101'\n",
    "end = year + '1231'\n",
    "lon, lat = wl_gage\n",
    "data = tc.get_water_levels(start, end, lon, lat)"
   ]
  },
  {
   "cell_type": "code",
   "execution_count": 5,
   "metadata": {},
   "outputs": [],
   "source": [
    "wl = data.water_level.copy()\n",
    "grouped = wl.groupby(pd.Grouper(freq='M'))\n",
    "\n",
    "def f(group):\n",
    "        return pd.DataFrame({'original': group, 'demeaned': group - group.mean()})\n",
    "\n",
    "wl_demeaned = grouped.apply(f)\n",
    "min_month = wl_demeaned.rolling(30).min().groupby(pd.Grouper(freq='M')).last()\n",
    "max_month = wl_demeaned.rolling(30).max().groupby(pd.Grouper(freq='M')).last()\n",
    "monthly_minmax = min_month.copy()\n",
    "monthly_minmax['high'] = max_month['demeaned']\n",
    "monthly_minmax = monthly_minmax[['demeaned', 'high']]\n",
    "monthly_minmax.columns = ['low', 'high']\n",
    "monthly_minmax['range'] = monthly_minmax.high - monthly_minmax.low\n",
    "ranked = monthly_minmax.sort_values('range')"
   ]
  },
  {
   "cell_type": "code",
   "execution_count": 6,
   "metadata": {},
   "outputs": [],
   "source": [
    "low, high = ranked.index[0], ranked.index[1]\n",
    "for date, key in zip([low, high], ['low', 'high']):\n",
    "    days = monthrange(date.year, date.month)[1]\n",
    "    end = date\n",
    "    start = end - pd.DateOffset(days - 1)\n",
    "\n",
    "    prediction = tc.wl_prediction(data, start, end, interval=1)\n",
    "    prediction['sec'] = prediction.index\n",
    "    prediction['sec'] = prediction.sec.apply(lambda x: (x - prediction.index[0]).total_seconds()).astype('int')\n",
    "    prediction = prediction[['sec', 'prediction']]\n",
    "    utils.write_wl_bc(prediction, key)"
   ]
  },
  {
   "cell_type": "code",
   "execution_count": 8,
   "metadata": {},
   "outputs": [],
   "source": [
    "lon, lat = q_gage\n",
    "start, end = year + '0101', year + '0110'#'1231'\n",
    "\n",
    "q = utils.get_discharge('gage_data', start, end, (-88.2, 30.4))\n",
    "q_range = [q.val.min(), q.val.mean(), q.val.max()]\n",
    "q_range = [(i * units('ft^3/s')).to_base_units().magnitude for i in q_range]\n",
    "utils.write_q_bc(prediction.index[0], prediction.sec[0], prediction.sec[-1], q_range)"
   ]
  }
 ],
 "metadata": {
  "kernelspec": {
   "display_name": "Python 3",
   "language": "python",
   "name": "python3"
  },
  "language_info": {
   "codemirror_mode": {
    "name": "ipython",
    "version": 3
   },
   "file_extension": ".py",
   "mimetype": "text/x-python",
   "name": "python",
   "nbconvert_exporter": "python",
   "pygments_lexer": "ipython3",
   "version": "3.7.3"
  }
 },
 "nbformat": 4,
 "nbformat_minor": 2
}
