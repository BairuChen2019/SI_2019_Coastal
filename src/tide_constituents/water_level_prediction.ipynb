{
 "cells": [
  {
   "cell_type": "code",
   "execution_count": 1,
   "metadata": {},
   "outputs": [],
   "source": [
    "import tide_constituents as tc\n",
    "import noaa_coops as nc\n",
    "import pandas as pd\n",
    "import numpy as np\n",
    "import datetime\n",
    "import tappy\n",
    "import matplotlib.pyplot as plt\n",
    "import matplotlib.dates as mdates\n",
    "pd.plotting.register_matplotlib_converters()"
   ]
  },
  {
   "cell_type": "code",
   "execution_count": 2,
   "metadata": {},
   "outputs": [],
   "source": [
    "import matplotlib as mpl\n",
    "mpl.rcParams['figure.dpi'] = 200"
   ]
  },
  {
   "cell_type": "code",
   "execution_count": null,
   "metadata": {},
   "outputs": [],
   "source": [
    "start = '20180201'\n",
    "end = '20180228'\n",
    "interval = 1"
   ]
  },
  {
   "cell_type": "code",
   "execution_count": null,
   "metadata": {},
   "outputs": [],
   "source": [
    "pr = tc.get_tides('20180101', '20180120', -88.2, 30.4)"
   ]
  },
  {
   "cell_type": "code",
   "execution_count": null,
   "metadata": {},
   "outputs": [],
   "source": [
    "noaa_predict = tc.get_tides(start, end, -88.2, 30.4)"
   ]
  },
  {
   "cell_type": "code",
   "execution_count": null,
   "metadata": {},
   "outputs": [],
   "source": [
    "start = pd.to_datetime(start)\n",
    "end = pd.to_datetime(end)\n",
    "d = start\n",
    "w, t, p, r = [], [], [], []\n",
    "\n",
    "while d < end:\n",
    "    start_ = d\n",
    "    end_ = start_ + pd.DateOffset(interval)\n",
    "    end_ = end_ if end_ < end else end\n",
    "    water_level = tc.get_water_levels(start_.strftime('%Y%m%d'),\n",
    "                                      end_.strftime('%Y%m%d'),\n",
    "                                      -88.2, 30.4)\n",
    "    tide = tc.tide_constituents(water_level)\n",
    "    water_level = water_level.water_level.astype('float')\n",
    "    prediction = 0.0 if 'Z0' not in list(tide.speed_dict.keys()) else tide.speed_dict['Z0']\n",
    "    prediction += tc.sum_signals(tide.key_list, tide.dates, tide.speed_dict, tide.r, tide.phase)\n",
    "    residual = water_level - prediction\n",
    "    w.append(water_level)\n",
    "    t.append(tide)\n",
    "    p.append(prediction)\n",
    "    r.append(residual)\n",
    "    d = end_"
   ]
  },
  {
   "cell_type": "code",
   "execution_count": null,
   "metadata": {},
   "outputs": [],
   "source": [
    "df_cons = pd.DataFrame({'amp': list(t[0].r.values()),\n",
    "                        'phase': list(t[0].phase.values()),\n",
    "                        'speed': [t[0].speed_dict[i]['speed'] for i in list(t[0].speed_dict.keys()) if not i == 'P1'],\n",
    "                        'VAU': [t[0].speed_dict[i]['VAU'] for i in list(t[0].speed_dict.keys()) if not i == 'P1']})"
   ]
  },
  {
   "cell_type": "code",
   "execution_count": null,
   "metadata": {},
   "outputs": [],
   "source": [
    "df_cons.to_csv('constituents_claw.csv', float_format='%3.10f', index=False, header=None)"
   ]
  },
  {
   "cell_type": "code",
   "execution_count": null,
   "metadata": {},
   "outputs": [],
   "source": [
    "df_FF = pd.DataFrame([t[0].speed_dict[i]['FF'] for i in list(t[0].speed_dict.keys()) if not i == 'P1']).T"
   ]
  },
  {
   "cell_type": "code",
   "execution_count": null,
   "metadata": {},
   "outputs": [],
   "source": [
    "df_FF.to_csv('constituents_FF_claw.csv', index=False, header=None)"
   ]
  },
  {
   "cell_type": "code",
   "execution_count": null,
   "metadata": {},
   "outputs": [],
   "source": [
    "water_level = pd.concat(w).to_frame()\n",
    "water_level.columns = ['observation']\n",
    "water_level['prediction'] = np.hstack(p)\n",
    "water_level['residual'] = np.hstack(r)\n",
    "#water_level = water_level[['water_level', 'prediction', 'residual']]\n",
    "#water_level.columns = ['observation', 'prediction', 'residual']\n",
    "water_level = water_level[['observation', 'prediction']]"
   ]
  },
  {
   "cell_type": "code",
   "execution_count": null,
   "metadata": {},
   "outputs": [],
   "source": [
    "ax = water_level.plot()\n",
    "noaa_predict.plot(ax=ax)\n",
    "ax.legend(['observation', 'prediction', 'NOAA prediction'], loc='best')\n",
    "ax.set_xlabel('');"
   ]
  },
  {
   "cell_type": "code",
   "execution_count": null,
   "metadata": {},
   "outputs": [],
   "source": [
    "year = '2018'"
   ]
  },
  {
   "cell_type": "code",
   "execution_count": null,
   "metadata": {},
   "outputs": [],
   "source": [
    "start = year + '0101'\n",
    "end = year + '1231'\n",
    "data = tc.get_water_levels(start, end, -88.2, 30.4)"
   ]
  },
  {
   "cell_type": "code",
   "execution_count": null,
   "metadata": {},
   "outputs": [],
   "source": [
    "pr.head()"
   ]
  },
  {
   "cell_type": "code",
   "execution_count": null,
   "metadata": {},
   "outputs": [],
   "source": [
    "wl = data.water_level.copy()\n",
    "grouped = wl.groupby(pd.Grouper(freq='M'))\n",
    "\n",
    "def f(group):\n",
    "        return pd.DataFrame({'original': group, 'demeaned': group - group.mean()})\n",
    "\n",
    "wl_demeaned = grouped.apply(f)"
   ]
  },
  {
   "cell_type": "code",
   "execution_count": null,
   "metadata": {},
   "outputs": [],
   "source": [
    "ax = wl_demeaned.plot()\n",
    "ax.set_xlabel('');"
   ]
  },
  {
   "cell_type": "code",
   "execution_count": null,
   "metadata": {},
   "outputs": [],
   "source": [
    "min_month = wl_demeaned.rolling(30).min().groupby(pd.Grouper(freq='M')).last()\n",
    "max_month = wl_demeaned.rolling(30).max().groupby(pd.Grouper(freq='M')).last()\n",
    "monthly_minmax = min_month.copy()\n",
    "monthly_minmax['high'] = max_month['demeaned']\n",
    "monthly_minmax = monthly_minmax[['demeaned', 'high']]\n",
    "monthly_minmax.columns = ['low', 'high']\n",
    "monthly_minmax['range'] = monthly_minmax.high - monthly_minmax.low\n",
    "ranked = monthly_minmax.sort_values('range')\n",
    "ranked"
   ]
  }
 ],
 "metadata": {
  "kernelspec": {
   "display_name": "Python 3",
   "language": "python",
   "name": "python3"
  },
  "language_info": {
   "codemirror_mode": {
    "name": "ipython",
    "version": 3
   },
   "file_extension": ".py",
   "mimetype": "text/x-python",
   "name": "python",
   "nbconvert_exporter": "python",
   "pygments_lexer": "ipython3",
   "version": "3.7.3"
  }
 },
 "nbformat": 4,
 "nbformat_minor": 2
}
