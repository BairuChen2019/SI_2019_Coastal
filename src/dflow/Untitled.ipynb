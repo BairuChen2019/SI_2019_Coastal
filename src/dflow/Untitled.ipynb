{
 "cells": [
  {
   "cell_type": "code",
   "execution_count": 1,
   "metadata": {},
   "outputs": [],
   "source": [
    "from analysis import tide_constituents\n",
    "import xarray as xr\n",
    "import numpy as np\n",
    "import utils\n",
    "from datetime import datetime"
   ]
  },
  {
   "cell_type": "code",
   "execution_count": 2,
   "metadata": {},
   "outputs": [],
   "source": [
    "res = xr.open_dataset('/home/taher/Documents/C2_A1_S1_R25_D0_TPG/FlowFM_map.nc')"
   ]
  },
  {
   "cell_type": "code",
   "execution_count": 3,
   "metadata": {},
   "outputs": [],
   "source": [
    "vel = res.mesh2d_ucy"
   ]
  },
  {
   "cell_type": "code",
   "execution_count": 4,
   "metadata": {},
   "outputs": [],
   "source": [
    "wl = res.mesh2d_s1"
   ]
  },
  {
   "cell_type": "code",
   "execution_count": 5,
   "metadata": {},
   "outputs": [],
   "source": [
    "x_center = 2.5e4\n",
    "y_mouth = 1.25e5"
   ]
  },
  {
   "cell_type": "code",
   "execution_count": 138,
   "metadata": {},
   "outputs": [
    {
     "data": {
      "text/plain": [
       "(array([1, 3]), array([2, 4]))"
      ]
     },
     "execution_count": 138,
     "metadata": {},
     "output_type": "execute_result"
    }
   ],
   "source": [
    "a=[1,2]\n",
    "b=[3,4]\n",
    "c=[]\n",
    "c.append([a, b])\n",
    "c.append([a, b])\n",
    "\n",
    "d, e = np.column_stack(c[0])\n",
    "d, e"
   ]
  },
  {
   "cell_type": "code",
   "execution_count": 6,
   "metadata": {},
   "outputs": [],
   "source": [
    "nx, ny = res.mesh2d_face_x.values, res.mesh2d_face_y.values\n",
    "idx_xm = np.where((nx > x_center - 300) & (nx < x_center))[0]\n",
    "idx_ym = np.where((ny > y_mouth - 500) & (ny < y_mouth))[0]\n",
    "mouth_idx = np.intersect1d(idx_xm, idx_ym)"
   ]
  },
  {
   "cell_type": "code",
   "execution_count": 7,
   "metadata": {},
   "outputs": [],
   "source": [
    "y_center = ny[idx_xm[::4]]\n",
    "idx_sort = np.argsort(y_center)[::-1]\n",
    "y_center = y_center[idx_sort]"
   ]
  },
  {
   "cell_type": "code",
   "execution_count": 8,
   "metadata": {},
   "outputs": [],
   "source": [
    "elevation = np.array([w[mouth_idx].values[0] for w in wl])\n",
    "velocity = np.array([u[mouth_idx].values[0] for u in vel])"
   ]
  },
  {
   "cell_type": "code",
   "execution_count": 143,
   "metadata": {},
   "outputs": [
    {
     "data": {
      "text/plain": [
       "(506,)"
      ]
     },
     "execution_count": 143,
     "metadata": {},
     "output_type": "execute_result"
    }
   ],
   "source": [
    "elevation.shape"
   ]
  },
  {
   "cell_type": "code",
   "execution_count": 9,
   "metadata": {},
   "outputs": [],
   "source": [
    "dates = wl.time.values.astype(int) * 1e-9"
   ]
  },
  {
   "cell_type": "code",
   "execution_count": 10,
   "metadata": {},
   "outputs": [],
   "source": [
    "dates = np.array([datetime.utcfromtimestamp(t) for t in dates])"
   ]
  },
  {
   "cell_type": "code",
   "execution_count": 14,
   "metadata": {},
   "outputs": [],
   "source": [
    "elevations = np.column_stack([wl.isel(time=t)[idx_xm[::4]].values for t in range(wl.time.shape[0])])"
   ]
  },
  {
   "cell_type": "code",
   "execution_count": 140,
   "metadata": {},
   "outputs": [
    {
     "data": {
      "text/plain": [
       "(280, 506)"
      ]
     },
     "execution_count": 140,
     "metadata": {},
     "output_type": "execute_result"
    }
   ],
   "source": [
    "elevations.shape"
   ]
  },
  {
   "cell_type": "code",
   "execution_count": 15,
   "metadata": {},
   "outputs": [],
   "source": [
    "wl_constituents = [tide_constituents(dates, el) for el in elevations]"
   ]
  },
  {
   "cell_type": "code",
   "execution_count": 16,
   "metadata": {},
   "outputs": [],
   "source": [
    "amps = np.column_stack([(con.r['M2'], con.r['M4']) for con in wl_constituents])\n",
    "phases = np.column_stack([(con.phase['M2'], con.phase['M4']) for con in wl_constituents])"
   ]
  },
  {
   "cell_type": "code",
   "execution_count": 139,
   "metadata": {},
   "outputs": [
    {
     "data": {
      "text/plain": [
       "array([[1, 3],\n",
       "       [2, 4]])"
      ]
     },
     "execution_count": 139,
     "metadata": {},
     "output_type": "execute_result"
    }
   ],
   "source": [
    "np.column_stack([(1,2), (3,4)])"
   ]
  },
  {
   "cell_type": "code",
   "execution_count": 11,
   "metadata": {},
   "outputs": [
    {
     "name": "stderr",
     "output_type": "stream",
     "text": [
      "/home/taher/applications/anaconda/envs/claw/lib/python3.7/site-packages/pandas/plotting/_converter.py:129: FutureWarning: Using an implicitly registered datetime converter for a matplotlib plotting method. The converter was registered by pandas on import. Future versions of pandas will require you to explicitly register matplotlib converters.\n",
      "\n",
      "To register the converters:\n",
      "\t>>> from pandas.plotting import register_matplotlib_converters\n",
      "\t>>> register_matplotlib_converters()\n",
      "  warnings.warn(msg, FutureWarning)\n"
     ]
    }
   ],
   "source": [
    "import matplotlib.dates as mdates\n",
    "\n",
    "fig, gs, canvas = utils.make_canvas(8, 5)\n",
    "ax = fig.add_subplot(gs[0])\n",
    "\n",
    "ax.plot(dates, velocity)\n",
    "fig.autofmt_xdate()\n",
    "\n",
    "ax.set_title('Velocity at the mouth of the river')\n",
    "#ax.set_ylim(ymin, ymax)\n",
    "ax.set_xlabel('')\n",
    "ax.set_ylabel('Velocity (m/s)')\n",
    "\n",
    "ax.fmt_xdata = mdates.DateFormatter('%Y-%m-%d')\n",
    "#ax.legend(loc='upper right')\n",
    "\n",
    "canvas.print_figure('vel.png', format=\"png\", dpi=300)"
   ]
  },
  {
   "cell_type": "code",
   "execution_count": 177,
   "metadata": {},
   "outputs": [
    {
     "data": {
      "text/plain": [
       "[0, 1, 2]"
      ]
     },
     "execution_count": 177,
     "metadata": {},
     "output_type": "execute_result"
    }
   ],
   "source": [
    "arr=['TTT', 'TFT', 'FFT', 'TTF']\n",
    "[arr.index(a) for a in arr if a[2] == 'T']"
   ]
  },
  {
   "cell_type": "code",
   "execution_count": 12,
   "metadata": {},
   "outputs": [],
   "source": [
    "import matplotlib.dates as mdates\n",
    "\n",
    "fig, gs, canvas = utils.make_canvas(8, 5)\n",
    "ax = fig.add_subplot(gs[0])\n",
    "\n",
    "ax.plot(dates, elevation)\n",
    "fig.autofmt_xdate()\n",
    "\n",
    "ax.set_title('Water level at the mouth of the river')\n",
    "#ax.set_ylim(ymin, ymax)\n",
    "ax.set_xlabel('')\n",
    "ax.set_ylabel('Water Level (m)')\n",
    "\n",
    "ax.fmt_xdata = mdates.DateFormatter('%Y-%m-%d')\n",
    "#ax.legend(loc='upper right')\n",
    "\n",
    "canvas.print_figure('wl.png', format=\"png\", dpi=300)"
   ]
  },
  {
   "cell_type": "code",
   "execution_count": 116,
   "metadata": {},
   "outputs": [],
   "source": [
    "def make_canvas(width, height, nx=1, ny=1):\n",
    "    from matplotlib.figure import Figure\n",
    "    from matplotlib.backends.backend_agg import FigureCanvasAgg as FigureCanvas\n",
    "    import matplotlib.gridspec as gridspec\n",
    "\n",
    "    # latexify(width, height)\n",
    "    fig = Figure(figsize=(width, height), frameon=True)\n",
    "    canvas = FigureCanvas(fig)\n",
    "    gs = gridspec.GridSpec(nx,\n",
    "                           ny,\n",
    "                           left=0.15,\n",
    "                           right=0.95,\n",
    "                           bottom=0.15,\n",
    "                           top=0.95,\n",
    "                           wspace=0.0,\n",
    "                           hspace=0.0,\n",
    "                           width_ratios=None,\n",
    "                           height_ratios=None)\n",
    "    return fig, gs, canvas"
   ]
  },
  {
   "cell_type": "code",
   "execution_count": 148,
   "metadata": {},
   "outputs": [
    {
     "data": {
      "text/plain": [
       "279"
      ]
     },
     "execution_count": 148,
     "metadata": {},
     "output_type": "execute_result"
    }
   ],
   "source": [
    "idx_sort.max()"
   ]
  },
  {
   "cell_type": "code",
   "execution_count": 123,
   "metadata": {},
   "outputs": [],
   "source": [
    "import matplotlib.dates as mdates\n",
    "\n",
    "fig, gs, canvas = make_canvas(10, 9, nx=2, ny=1)\n",
    "\n",
    "ax = [fig.add_subplot(g) for g in gs]\n",
    "\n",
    "ax[0].plot(y_center, amps[0][idx_sort])\n",
    "#fig.autofmt_xdate()\n",
    "\n",
    "#ax[0].set_title('The $M_2$ tidal constituents of Water level along the center of the domain')\n",
    "#ax.set_xlim(0, 0.2e6)\n",
    "\n",
    "#ax.legend(loc='upper right')\n",
    "ax[1].plot(y_center, phases[0][idx_sort])\n",
    "#fig.autofmt_xdate()\n",
    "fig.suptitle('The $M_2$ tidal constituents of water level along the center of the domain',\n",
    "             y=0.98, horizontalalignment='center', verticalalignment='top', fontsize = 12)\n",
    "#ax[1].set_title('The $M_2$ tidal constituents of Water level along the center of the domain')\n",
    "#ax.set_xlim(0, 0.2e6)\n",
    "#ax[0].set_xlabel('Distance (m)')\n",
    "ax[0].set_xticks([])\n",
    "ax[0].set_ylabel('$M_2$ ampl. (m/s)')\n",
    "\n",
    "ax[0].ticklabel_format(style='sci', axis='x', scilimits=(0, 3))\n",
    "ax[1].set_xlabel('Distance (m)')\n",
    "ax[1].set_ylabel('$M_2$ phase (deg)')\n",
    "\n",
    "ax[1].ticklabel_format(style='sci', axis='x', scilimits=(0, 3))\n",
    "gs.tight_layout(fig)\n",
    "\n",
    "canvas.print_figure('m2amp.png', format=\"png\", dpi=300)"
   ]
  },
  {
   "cell_type": "code",
   "execution_count": 52,
   "metadata": {},
   "outputs": [],
   "source": [
    "import matplotlib.dates as mdates\n",
    "\n",
    "fig, gs, canvas = make_canvas(8, 5)\n",
    "ax = fig.add_subplot(gs[0])\n",
    "\n",
    "ax.plot(y_center, amps[1][idx_sort])\n",
    "#fig.autofmt_xdate()\n",
    "\n",
    "ax.set_title('The $M_4$ tidal constituents of Water level along the center of the domain')\n",
    "#ax.set_xlim(0, 0.2e6)\n",
    "ax.set_xlabel('Distance (m)')\n",
    "ax.set_ylabel('$M_4$ ampl. (m/s)')\n",
    "\n",
    "ax.ticklabel_format(style='sci', axis='x', scilimits=(0, 3))\n",
    "#ax.legend(loc='upper right')\n",
    "\n",
    "canvas.print_figure('m4amp.png', format=\"png\", dpi=300)"
   ]
  },
  {
   "cell_type": "code",
   "execution_count": 20,
   "metadata": {},
   "outputs": [],
   "source": [
    "import matplotlib.dates as mdates\n",
    "\n",
    "fig, gs, canvas = utils.make_canvas(8, 5)\n",
    "ax = fig.add_subplot(gs[0])\n",
    "\n",
    "ax.plot(y_center, phases[0][idx_sort])\n",
    "#fig.autofmt_xdate()\n",
    "\n",
    "ax.set_title('The $M_2$ tidal constituents of Water level along the center of the domain')\n",
    "#ax.set_xlim(0, 0.2e6)\n",
    "ax.set_xlabel('Distance (m)')\n",
    "ax.set_ylabel('$M_2$ phase (rad)')\n",
    "\n",
    "ax.ticklabel_format(style='sci', axis='x', scilimits=(0, 3))\n",
    "#ax.legend(loc='upper right')\n",
    "\n",
    "canvas.print_figure('m2phase.png', format=\"png\", dpi=300)"
   ]
  },
  {
   "cell_type": "code",
   "execution_count": 21,
   "metadata": {},
   "outputs": [],
   "source": [
    "import matplotlib.dates as mdates\n",
    "\n",
    "fig, gs, canvas = utils.make_canvas(8, 5)\n",
    "ax = fig.add_subplot(gs[0])\n",
    "\n",
    "ax.plot(y_center, phases[1][idx_sort])\n",
    "#fig.autofmt_xdate()\n",
    "\n",
    "ax.set_title('The $M_4$ tidal constituents of Water level along the center of the domain')\n",
    "#ax.set_xlim(0, 0.2e6)\n",
    "ax.set_xlabel('Distance (m)')\n",
    "ax.set_ylabel('$M_4$ phase (rad)')\n",
    "\n",
    "ax.ticklabel_format(style='sci', axis='x', scilimits=(0, 3))\n",
    "#ax.legend(loc='upper right')\n",
    "\n",
    "canvas.print_figure('m4phase.png', format=\"png\", dpi=300)"
   ]
  }
 ],
 "metadata": {
  "kernelspec": {
   "display_name": "Python 3",
   "language": "python",
   "name": "python3"
  },
  "language_info": {
   "codemirror_mode": {
    "name": "ipython",
    "version": 3
   },
   "file_extension": ".py",
   "mimetype": "text/x-python",
   "name": "python",
   "nbconvert_exporter": "python",
   "pygments_lexer": "ipython3",
   "version": "3.7.3"
  }
 },
 "nbformat": 4,
 "nbformat_minor": 2
}
