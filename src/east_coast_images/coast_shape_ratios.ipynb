{
 "cells": [
  {
   "cell_type": "code",
   "execution_count": 1,
   "metadata": {},
   "outputs": [],
   "source": [
    "import pandas as pd\n",
    "import numpy as np\n",
    "pd.options.display.float_format = '{:.2f}'.format"
   ]
  },
  {
   "cell_type": "code",
   "execution_count": 2,
   "metadata": {},
   "outputs": [],
   "source": [
    "la = 0.03 * 110.574\n",
    "lo = 0.06 * 111.32 * np.cos(0.03)\n",
    "di = np.sqrt(la**2 + lo**2)"
   ]
  },
  {
   "cell_type": "code",
   "execution_count": 3,
   "metadata": {},
   "outputs": [],
   "source": [
    "data = []"
   ]
  },
  {
   "cell_type": "code",
   "execution_count": 4,
   "metadata": {},
   "outputs": [],
   "source": [
    "def add_ratio(df, sh, lon, lat, wb, wr, lb, wt):\n",
    "    return df.append([sh, lon, lat, wb, wr, lb, wt,\n",
    "                     float(wb)/float(wr), float(lb)/float(wb),\n",
    "                     float(wb)/float(wt)])"
   ]
  },
  {
   "cell_type": "code",
   "execution_count": 5,
   "metadata": {},
   "outputs": [],
   "source": [
    "add_ratio(data, 'triangle', -66.46, 45.06, 2*di, 0.2*di, 1.5*di, np.nan)\n",
    "add_ratio(data, 'trapezoid', -66.74, 45.07, di, 0.1*di, 1.5*di, di)\n",
    "add_ratio(data, 'trapezoid', -67.27, 44.63, 2*di, 0.1*di, 3*la, 1.5*di)\n",
    "add_ratio(data, 'triangle', -67.80, 44.52, 0.8*di, 0.05*di, 4*la, np.nan)\n",
    "add_ratio(data, 'trapezoid', -67.80, 44.52, 1.2*di, 0.05*di, di, 1.1*di)\n",
    "add_ratio(data, 'triangle', -70.64, 41.99, 4*la, 0.1*di, 1.5*di, np.nan)\n",
    "add_ratio(data, 'trapezoid', -70.66, 41.60, 1.2*di, 0.05*di, di, 1.1*di)\n",
    "add_ratio(data, 'triangle', -40.5, 73.9, 17, 2, 24, np.nan)\n",
    "add_ratio(data, 'triangle', -41.0, 72.0, 28, 3, 158, np.nan)\n",
    "add_ratio(data, 'trapezoid', -71.01, 42.31, 3*la, 0.3*la, 2*di, 2*la)\n",
    "add_ratio(data, 'triangle', -71.38, 41.73, 1.5*di, 0.1*di, 4*la, np.nan)\n",
    "add_ratio(data, 'triangle', -72.81, 41.26, 0.8*di, 0.1*di, di, np.nan)\n",
    "add_ratio(data, 'triangle', -74.27, 40.49, 3*la, 0.3*la, 2*lo, np.nan)\n",
    "add_ratio(data, 'trapezoid', -75.09, 38.62, 4*la, 0.3*la, 2*lo, 4*la)\n",
    "add_ratio(data, 'triangle', -75.48, 39.34, 49, 4, 98, np.nan)\n",
    "add_ratio(data, 'triangle', -75.74, 37.92, 35, 4, 241, np.nan)\n",
    "add_ratio(data, 'triangle', -75.85, 38.02, 1.1*di, 0.1*la, 3*di, np.nan)\n",
    "add_ratio(data, 'triangle', -66.46, 45.06, 2*di, 0.05*la, 2*di, np.nan)\n",
    "add_ratio(data, 'trapezoid', -67.15, 44.83, 28, 1, 35, 15)"
   ]
  },
  {
   "cell_type": "code",
   "execution_count": 6,
   "metadata": {},
   "outputs": [],
   "source": [
    "data = pd.DataFrame(data)\n",
    "data.columns=['Shape', 'Lon', 'Lat',\n",
    "              'Wb', 'Wr', 'Lb','Wt',\n",
    "              'Rbr', 'Rlb', 'Rbt']"
   ]
  },
  {
   "cell_type": "code",
   "execution_count": 7,
   "metadata": {},
   "outputs": [],
   "source": [
    "for f in ['john.csv', 'gustavo.csv']:\n",
    "    df = pd.read_csv(f)\n",
    "    df['Rbr'] = df.Wb / df.Wr\n",
    "    df['Rlb'] = df.Lb / df.Wb\n",
    "    df['Rbt'] = df.Wb / df.Wt\n",
    "    data = pd.concat([data, df]).reset_index(drop=True)"
   ]
  },
  {
   "cell_type": "code",
   "execution_count": 8,
   "metadata": {},
   "outputs": [],
   "source": [
    "data = data.sort_values('Shape').reset_index(drop=True)\n",
    "data.to_csv('shape_data.csv', index=None)"
   ]
  },
  {
   "cell_type": "code",
   "execution_count": 9,
   "metadata": {},
   "outputs": [],
   "source": [
    "ratio_min = data[['Shape', 'Rbr', 'Rlb', 'Rbt']].groupby('Shape').min()\n",
    "ratio_max = data[['Shape', 'Rbr', 'Rlb', 'Rbt']].groupby('Shape').max()"
   ]
  },
  {
   "cell_type": "code",
   "execution_count": 10,
   "metadata": {},
   "outputs": [
    {
     "data": {
      "text/html": [
       "<div>\n",
       "<style scoped>\n",
       "    .dataframe tbody tr th:only-of-type {\n",
       "        vertical-align: middle;\n",
       "    }\n",
       "\n",
       "    .dataframe tbody tr th {\n",
       "        vertical-align: top;\n",
       "    }\n",
       "\n",
       "    .dataframe thead th {\n",
       "        text-align: right;\n",
       "    }\n",
       "</style>\n",
       "<table border=\"1\" class=\"dataframe\">\n",
       "  <thead>\n",
       "    <tr style=\"text-align: right;\">\n",
       "      <th></th>\n",
       "      <th></th>\n",
       "      <th>Rbr</th>\n",
       "      <th>Rlb</th>\n",
       "      <th>Rbt</th>\n",
       "    </tr>\n",
       "    <tr>\n",
       "      <th></th>\n",
       "      <th>Shape</th>\n",
       "      <th></th>\n",
       "      <th></th>\n",
       "      <th></th>\n",
       "    </tr>\n",
       "  </thead>\n",
       "  <tbody>\n",
       "    <tr>\n",
       "      <th rowspan=\"2\" valign=\"top\">R_min</th>\n",
       "      <th>trapezoid</th>\n",
       "      <td>0.75</td>\n",
       "      <td>0.67</td>\n",
       "      <td>0.23</td>\n",
       "    </tr>\n",
       "    <tr>\n",
       "      <th>triangle</th>\n",
       "      <td>1.67</td>\n",
       "      <td>0.75</td>\n",
       "      <td>0.62</td>\n",
       "    </tr>\n",
       "    <tr>\n",
       "      <th rowspan=\"2\" valign=\"top\">R_max</th>\n",
       "      <th>trapezoid</th>\n",
       "      <td>28.00</td>\n",
       "      <td>13.33</td>\n",
       "      <td>79.00</td>\n",
       "    </tr>\n",
       "    <tr>\n",
       "      <th>triangle</th>\n",
       "      <td>89.89</td>\n",
       "      <td>24.93</td>\n",
       "      <td>1.32</td>\n",
       "    </tr>\n",
       "  </tbody>\n",
       "</table>\n",
       "</div>"
      ],
      "text/plain": [
       "                  Rbr   Rlb   Rbt\n",
       "      Shape                      \n",
       "R_min trapezoid  0.75  0.67  0.23\n",
       "      triangle   1.67  0.75  0.62\n",
       "R_max trapezoid 28.00 13.33 79.00\n",
       "      triangle  89.89 24.93  1.32"
      ]
     },
     "execution_count": 10,
     "metadata": {},
     "output_type": "execute_result"
    }
   ],
   "source": [
    "ratio_range = pd.concat([ratio_min, ratio_max], keys=['R_min', 'R_max'])\n",
    "ratio_range"
   ]
  }
 ],
 "metadata": {
  "kernelspec": {
   "display_name": "Python 3",
   "language": "python",
   "name": "python3"
  },
  "language_info": {
   "codemirror_mode": {
    "name": "ipython",
    "version": 3
   },
   "file_extension": ".py",
   "mimetype": "text/x-python",
   "name": "python",
   "nbconvert_exporter": "python",
   "pygments_lexer": "ipython3",
   "version": "3.7.3"
  }
 },
 "nbformat": 4,
 "nbformat_minor": 2
}
