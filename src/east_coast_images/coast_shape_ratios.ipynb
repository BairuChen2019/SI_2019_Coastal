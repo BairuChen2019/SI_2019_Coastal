{
 "cells": [
  {
   "cell_type": "code",
   "execution_count": 1,
   "metadata": {},
   "outputs": [],
   "source": [
    "import pandas as pd\n",
    "import numpy as np\n",
    "pd.options.display.float_format = '{:.2f}'.format"
   ]
  },
  {
   "cell_type": "code",
   "execution_count": null,
   "metadata": {},
   "outputs": [],
   "source": [
    "la = 0.03 * 110.574\n",
    "lo = 0.06 * 111.32 * np.cos(0.03)\n",
    "di = np.sqrt(la**2 + lo**2)"
   ]
  },
  {
   "cell_type": "code",
   "execution_count": null,
   "metadata": {},
   "outputs": [],
   "source": [
    "data = []"
   ]
  },
  {
   "cell_type": "code",
   "execution_count": null,
   "metadata": {},
   "outputs": [],
   "source": [
    "def add_ratio(df, sh, lon, lat, wb, wr, lb, wt):\n",
    "    return df.append([sh, lon, lat, wb, wr, lb, wt,\n",
    "                     float(wb)/float(wr), float(lb)/float(wb),\n",
    "                     float(wb)/float(wt)])"
   ]
  },
  {
   "cell_type": "code",
   "execution_count": null,
   "metadata": {},
   "outputs": [],
   "source": [
    "add_ratio(data, 'triangle', -66.46, 45.06, 2*di, 0.2*di, 1.5*di, np.nan)\n",
    "add_ratio(data, 'trapezoid', -66.74, 45.07, di, 0.1*di, 1.5*di, di)\n",
    "add_ratio(data, 'trapezoid', -67.27, 44.63, 2*di, 0.1*di, 3*la, 1.5*di)\n",
    "add_ratio(data, 'triangle', -67.80, 44.52, 0.8*di, 0.05*di, 4*la, np.nan)\n",
    "add_ratio(data, 'trapezoid', -67.80, 44.52, 1.2*di, 0.05*di, di, 1.1*di)\n",
    "add_ratio(data, 'triangle', -70.64, 41.99, 4*la, 0.1*di, 1.5*di, np.nan)\n",
    "add_ratio(data, 'trapezoid', -70.66, 41.60, 1.2*di, 0.05*di, di, 1.1*di)\n",
    "add_ratio(data, 'triangle', -40.5, 73.9, 17, 2, 24, np.nan)\n",
    "add_ratio(data, 'triangle', -41.0, 72.0, 28, 3, 158, np.nan)\n",
    "add_ratio(data, 'trapezoid', -71.01, 42.31, 3*la, 0.3*la, 2*di, 2*la)\n",
    "add_ratio(data, 'triangle', -71.38, 41.73, 1.5*di, 0.1*di, 4*la, np.nan)\n",
    "add_ratio(data, 'triangle', -72.81, 41.26, 0.8*di, 0.1*di, di, np.nan)\n",
    "add_ratio(data, 'triangle', -74.27, 40.49, 3*la, 0.3*la, 2*lo, np.nan)\n",
    "add_ratio(data, 'trapezoid', -75.09, 38.62, 4*la, 0.3*la, 2*lo, 4*la)\n",
    "add_ratio(data, 'triangle', -75.48, 39.34, 49, 4, 98, np.nan)\n",
    "add_ratio(data, 'triangle', -75.74, 37.92, 35, 4, 241, np.nan)\n",
    "add_ratio(data, 'triangle', -75.85, 38.02, 1.1*di, 0.1*la, 3*di, np.nan)\n",
    "add_ratio(data, 'triangle', -66.46, 45.06, 2*di, 0.05*la, 2*di, np.nan)\n",
    "add_ratio(data, 'trapezoid', -67.15, 44.83, 28, 1, 35, 15)"
   ]
  },
  {
   "cell_type": "code",
   "execution_count": null,
   "metadata": {},
   "outputs": [],
   "source": [
    "data = pd.DataFrame(data)\n",
    "data.columns=['Shape', 'Lon', 'Lat',\n",
    "              'Wb', 'Wr', 'Lb','Wt',\n",
    "              'Rbr', 'Rlb', 'Rbt']"
   ]
  },
  {
   "cell_type": "code",
   "execution_count": null,
   "metadata": {},
   "outputs": [],
   "source": [
    "for f in ['john.csv', 'gustavo.csv']:\n",
    "    df = pd.read_csv(f)\n",
    "    df['Rbr'] = df.Wb / df.Wr\n",
    "    df['Rlb'] = df.Lb / df.Wb\n",
    "    df['Rbt'] = df.Wb / df.Wt\n",
    "    data = pd.concat([data, df]).reset_index(drop=True)"
   ]
  },
  {
   "cell_type": "code",
   "execution_count": null,
   "metadata": {},
   "outputs": [],
   "source": [
    "data = data.sort_values('Shape').reset_index(drop=True)\n",
    "data.to_csv('shape_data.csv', index=None)"
   ]
  },
  {
   "cell_type": "code",
   "execution_count": 35,
   "metadata": {},
   "outputs": [],
   "source": [
    "data = pd.read_csv('shape_data.csv')\n",
    "#data[data.Rbr < 2]"
   ]
  },
  {
   "cell_type": "code",
   "execution_count": 36,
   "metadata": {},
   "outputs": [],
   "source": [
    "data.loc[4, 'Shape'] = 'triangle'\n",
    "data.loc[4, 'Wb'] = 13.0\n",
    "data.loc[4, 'Lb'] = 11.0\n",
    "data.loc[4, 'Wt'] = np.nan\n",
    "data.loc[4, 'Wr'] = 1.6\n",
    "data.loc[4, 'Rlb'] = 11.0 / 13.0\n",
    "data.loc[4, 'Rbr'] = 13.0 / 1.6\n",
    "data.loc[4, 'Rbt'] = np.nan"
   ]
  },
  {
   "cell_type": "code",
   "execution_count": 37,
   "metadata": {},
   "outputs": [],
   "source": [
    "data.loc[19, 'Wb'] = 35.0\n",
    "data.loc[19, 'Lb'] = 45.0\n",
    "data.loc[19, 'Wt'] = 14.5\n",
    "data.loc[19, 'Wr'] = 1.2\n",
    "data.loc[19, 'Rlb'] = 45.0 / 35.0\n",
    "data.loc[19, 'Rbr'] = 45.0 / 1.2\n",
    "data.loc[19, 'Rbt'] = 35.0 / 14.5"
   ]
  },
  {
   "cell_type": "code",
   "execution_count": 38,
   "metadata": {},
   "outputs": [],
   "source": [
    "data = data.drop([7, 8, 9, 10, 14, 26, 19])"
   ]
  },
  {
   "cell_type": "code",
   "execution_count": 48,
   "metadata": {},
   "outputs": [
    {
     "data": {
      "text/html": [
       "<div>\n",
       "<style scoped>\n",
       "    .dataframe tbody tr th:only-of-type {\n",
       "        vertical-align: middle;\n",
       "    }\n",
       "\n",
       "    .dataframe tbody tr th {\n",
       "        vertical-align: top;\n",
       "    }\n",
       "\n",
       "    .dataframe thead th {\n",
       "        text-align: right;\n",
       "    }\n",
       "</style>\n",
       "<table border=\"1\" class=\"dataframe\">\n",
       "  <thead>\n",
       "    <tr style=\"text-align: right;\">\n",
       "      <th></th>\n",
       "      <th>Rbr</th>\n",
       "      <th>Rlb</th>\n",
       "      <th>Rbt</th>\n",
       "    </tr>\n",
       "  </thead>\n",
       "  <tbody>\n",
       "    <tr>\n",
       "      <th>count</th>\n",
       "      <td>17.00</td>\n",
       "      <td>17.00</td>\n",
       "      <td>17.00</td>\n",
       "    </tr>\n",
       "    <tr>\n",
       "      <th>mean</th>\n",
       "      <td>10.71</td>\n",
       "      <td>2.29</td>\n",
       "      <td>17.63</td>\n",
       "    </tr>\n",
       "    <tr>\n",
       "      <th>std</th>\n",
       "      <td>8.51</td>\n",
       "      <td>2.33</td>\n",
       "      <td>24.56</td>\n",
       "    </tr>\n",
       "    <tr>\n",
       "      <th>min</th>\n",
       "      <td>2.10</td>\n",
       "      <td>0.67</td>\n",
       "      <td>1.00</td>\n",
       "    </tr>\n",
       "    <tr>\n",
       "      <th>25%</th>\n",
       "      <td>3.30</td>\n",
       "      <td>1.25</td>\n",
       "      <td>1.09</td>\n",
       "    </tr>\n",
       "    <tr>\n",
       "      <th>50%</th>\n",
       "      <td>9.29</td>\n",
       "      <td>1.50</td>\n",
       "      <td>1.50</td>\n",
       "    </tr>\n",
       "    <tr>\n",
       "      <th>75%</th>\n",
       "      <td>13.33</td>\n",
       "      <td>2.09</td>\n",
       "      <td>33.33</td>\n",
       "    </tr>\n",
       "    <tr>\n",
       "      <th>max</th>\n",
       "      <td>28.00</td>\n",
       "      <td>10.00</td>\n",
       "      <td>79.00</td>\n",
       "    </tr>\n",
       "  </tbody>\n",
       "</table>\n",
       "</div>"
      ],
      "text/plain": [
       "        Rbr   Rlb   Rbt\n",
       "count 17.00 17.00 17.00\n",
       "mean  10.71  2.29 17.63\n",
       "std    8.51  2.33 24.56\n",
       "min    2.10  0.67  1.00\n",
       "25%    3.30  1.25  1.09\n",
       "50%    9.29  1.50  1.50\n",
       "75%   13.33  2.09 33.33\n",
       "max   28.00 10.00 79.00"
      ]
     },
     "execution_count": 48,
     "metadata": {},
     "output_type": "execute_result"
    }
   ],
   "source": [
    "data.loc[data.Shape == 'trapezoid', ['Rbr', 'Rlb', 'Rbt']].describe()"
   ]
  },
  {
   "cell_type": "code",
   "execution_count": 50,
   "metadata": {},
   "outputs": [
    {
     "data": {
      "text/html": [
       "<div>\n",
       "<style scoped>\n",
       "    .dataframe tbody tr th:only-of-type {\n",
       "        vertical-align: middle;\n",
       "    }\n",
       "\n",
       "    .dataframe tbody tr th {\n",
       "        vertical-align: top;\n",
       "    }\n",
       "\n",
       "    .dataframe thead th {\n",
       "        text-align: right;\n",
       "    }\n",
       "</style>\n",
       "<table border=\"1\" class=\"dataframe\">\n",
       "  <thead>\n",
       "    <tr style=\"text-align: right;\">\n",
       "      <th></th>\n",
       "      <th>Rbr</th>\n",
       "      <th>Rlb</th>\n",
       "    </tr>\n",
       "  </thead>\n",
       "  <tbody>\n",
       "    <tr>\n",
       "      <th>count</th>\n",
       "      <td>22.00</td>\n",
       "      <td>22.00</td>\n",
       "    </tr>\n",
       "    <tr>\n",
       "      <th>mean</th>\n",
       "      <td>12.85</td>\n",
       "      <td>6.13</td>\n",
       "    </tr>\n",
       "    <tr>\n",
       "      <th>std</th>\n",
       "      <td>18.12</td>\n",
       "      <td>7.22</td>\n",
       "    </tr>\n",
       "    <tr>\n",
       "      <th>min</th>\n",
       "      <td>1.71</td>\n",
       "      <td>0.75</td>\n",
       "    </tr>\n",
       "    <tr>\n",
       "      <th>25%</th>\n",
       "      <td>4.57</td>\n",
       "      <td>1.27</td>\n",
       "    </tr>\n",
       "    <tr>\n",
       "      <th>50%</th>\n",
       "      <td>9.04</td>\n",
       "      <td>2.72</td>\n",
       "    </tr>\n",
       "    <tr>\n",
       "      <th>75%</th>\n",
       "      <td>12.02</td>\n",
       "      <td>6.47</td>\n",
       "    </tr>\n",
       "    <tr>\n",
       "      <th>max</th>\n",
       "      <td>89.89</td>\n",
       "      <td>24.93</td>\n",
       "    </tr>\n",
       "  </tbody>\n",
       "</table>\n",
       "</div>"
      ],
      "text/plain": [
       "        Rbr   Rlb\n",
       "count 22.00 22.00\n",
       "mean  12.85  6.13\n",
       "std   18.12  7.22\n",
       "min    1.71  0.75\n",
       "25%    4.57  1.27\n",
       "50%    9.04  2.72\n",
       "75%   12.02  6.47\n",
       "max   89.89 24.93"
      ]
     },
     "execution_count": 50,
     "metadata": {},
     "output_type": "execute_result"
    }
   ],
   "source": [
    "data.loc[data.Shape == 'triangle', ['Rbr', 'Rlb']].describe()"
   ]
  },
  {
   "cell_type": "code",
   "execution_count": 51,
   "metadata": {},
   "outputs": [
    {
     "data": {
      "text/html": [
       "<div>\n",
       "<style scoped>\n",
       "    .dataframe tbody tr th:only-of-type {\n",
       "        vertical-align: middle;\n",
       "    }\n",
       "\n",
       "    .dataframe tbody tr th {\n",
       "        vertical-align: top;\n",
       "    }\n",
       "\n",
       "    .dataframe thead th {\n",
       "        text-align: right;\n",
       "    }\n",
       "</style>\n",
       "<table border=\"1\" class=\"dataframe\">\n",
       "  <thead>\n",
       "    <tr style=\"text-align: right;\">\n",
       "      <th></th>\n",
       "      <th>Shape</th>\n",
       "      <th>Lon</th>\n",
       "      <th>Lat</th>\n",
       "      <th>Wb</th>\n",
       "      <th>Wr</th>\n",
       "      <th>Lb</th>\n",
       "      <th>Wt</th>\n",
       "      <th>Rbr</th>\n",
       "      <th>Rlb</th>\n",
       "      <th>Rbt</th>\n",
       "    </tr>\n",
       "  </thead>\n",
       "  <tbody>\n",
       "    <tr>\n",
       "      <th>38</th>\n",
       "      <td>triangle</td>\n",
       "      <td>-75.85</td>\n",
       "      <td>38.02</td>\n",
       "      <td>8.20</td>\n",
       "      <td>0.33</td>\n",
       "      <td>22.36</td>\n",
       "      <td>nan</td>\n",
       "      <td>24.72</td>\n",
       "      <td>2.73</td>\n",
       "      <td>nan</td>\n",
       "    </tr>\n",
       "  </tbody>\n",
       "</table>\n",
       "</div>"
      ],
      "text/plain": [
       "       Shape    Lon   Lat   Wb   Wr    Lb  Wt   Rbr  Rlb  Rbt\n",
       "38  triangle -75.85 38.02 8.20 0.33 22.36 nan 24.72 2.73  nan"
      ]
     },
     "execution_count": 51,
     "metadata": {},
     "output_type": "execute_result"
    }
   ],
   "source": [
    "data[(data.Rlb > 2.71) & (data.Rlb < 2.73)]"
   ]
  },
  {
   "cell_type": "code",
   "execution_count": 52,
   "metadata": {},
   "outputs": [
    {
     "data": {
      "text/html": [
       "<div>\n",
       "<style scoped>\n",
       "    .dataframe tbody tr th:only-of-type {\n",
       "        vertical-align: middle;\n",
       "    }\n",
       "\n",
       "    .dataframe tbody tr th {\n",
       "        vertical-align: top;\n",
       "    }\n",
       "\n",
       "    .dataframe thead th {\n",
       "        text-align: right;\n",
       "    }\n",
       "</style>\n",
       "<table border=\"1\" class=\"dataframe\">\n",
       "  <thead>\n",
       "    <tr style=\"text-align: right;\">\n",
       "      <th></th>\n",
       "      <th>Shape</th>\n",
       "      <th>Lon</th>\n",
       "      <th>Lat</th>\n",
       "      <th>Wb</th>\n",
       "      <th>Wr</th>\n",
       "      <th>Lb</th>\n",
       "      <th>Wt</th>\n",
       "      <th>Rbr</th>\n",
       "      <th>Rlb</th>\n",
       "      <th>Rbt</th>\n",
       "    </tr>\n",
       "  </thead>\n",
       "  <tbody>\n",
       "    <tr>\n",
       "      <th>1</th>\n",
       "      <td>trapezoid</td>\n",
       "      <td>-81.16</td>\n",
       "      <td>31.84</td>\n",
       "      <td>5.32</td>\n",
       "      <td>1.40</td>\n",
       "      <td>8.00</td>\n",
       "      <td>4.00</td>\n",
       "      <td>3.80</td>\n",
       "      <td>1.50</td>\n",
       "      <td>1.33</td>\n",
       "    </tr>\n",
       "    <tr>\n",
       "      <th>13</th>\n",
       "      <td>trapezoid</td>\n",
       "      <td>-71.01</td>\n",
       "      <td>42.31</td>\n",
       "      <td>9.95</td>\n",
       "      <td>1.00</td>\n",
       "      <td>14.91</td>\n",
       "      <td>6.63</td>\n",
       "      <td>10.00</td>\n",
       "      <td>1.50</td>\n",
       "      <td>1.50</td>\n",
       "    </tr>\n",
       "    <tr>\n",
       "      <th>21</th>\n",
       "      <td>trapezoid</td>\n",
       "      <td>-66.74</td>\n",
       "      <td>45.07</td>\n",
       "      <td>7.45</td>\n",
       "      <td>0.75</td>\n",
       "      <td>11.18</td>\n",
       "      <td>7.45</td>\n",
       "      <td>10.00</td>\n",
       "      <td>1.50</td>\n",
       "      <td>1.00</td>\n",
       "    </tr>\n",
       "  </tbody>\n",
       "</table>\n",
       "</div>"
      ],
      "text/plain": [
       "        Shape    Lon   Lat   Wb   Wr    Lb   Wt   Rbr  Rlb  Rbt\n",
       "1   trapezoid -81.16 31.84 5.32 1.40  8.00 4.00  3.80 1.50 1.33\n",
       "13  trapezoid -71.01 42.31 9.95 1.00 14.91 6.63 10.00 1.50 1.50\n",
       "21  trapezoid -66.74 45.07 7.45 0.75 11.18 7.45 10.00 1.50 1.00"
      ]
     },
     "execution_count": 52,
     "metadata": {},
     "output_type": "execute_result"
    }
   ],
   "source": [
    "data[(data.Rlb > 1.49) & (data.Rlb < 1.51)]"
   ]
  },
  {
   "cell_type": "code",
   "execution_count": null,
   "metadata": {},
   "outputs": [],
   "source": [
    "ratio_min = data[['Shape', 'Rbr', 'Rlb', 'Rbt']].groupby('Shape').min()\n",
    "ratio_max = data[['Shape', 'Rbr', 'Rlb', 'Rbt']].groupby('Shape').max()"
   ]
  },
  {
   "cell_type": "code",
   "execution_count": null,
   "metadata": {},
   "outputs": [],
   "source": [
    "ratio_range = pd.concat([ratio_min, ratio_max], keys=['R_min', 'R_max'])\n",
    "ratio_range"
   ]
  },
  {
   "cell_type": "code",
   "execution_count": 1,
   "metadata": {},
   "outputs": [],
   "source": [
    "from coast_images import plot_coords"
   ]
  },
  {
   "cell_type": "code",
   "execution_count": 2,
   "metadata": {},
   "outputs": [],
   "source": [
    "plot_coords('gis_data/east_coast/east_coast.shp')"
   ]
  }
 ],
 "metadata": {
  "kernelspec": {
   "display_name": "Python 3",
   "language": "python",
   "name": "python3"
  },
  "language_info": {
   "codemirror_mode": {
    "name": "ipython",
    "version": 3
   },
   "file_extension": ".py",
   "mimetype": "text/x-python",
   "name": "python",
   "nbconvert_exporter": "python",
   "pygments_lexer": "ipython3",
   "version": "3.7.3"
  }
 },
 "nbformat": 4,
 "nbformat_minor": 2
}
